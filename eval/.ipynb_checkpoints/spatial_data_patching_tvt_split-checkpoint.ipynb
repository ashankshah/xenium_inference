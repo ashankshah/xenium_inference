{
 "cells": [
  {
   "cell_type": "code",
   "execution_count": 1,
   "id": "8599c1f3",
   "metadata": {},
   "outputs": [],
   "source": [
    "import pandas as pd\n",
    "import numpy as np\n",
    "import torch\n",
    "from PIL import Image\n",
    "from tqdm import tqdm\n",
    "import matplotlib.pyplot as plt\n",
    "import h5py"
   ]
  },
  {
   "cell_type": "code",
   "execution_count": 2,
   "id": "9a18ce9f",
   "metadata": {},
   "outputs": [],
   "source": [
    "data_path = r\"/dartfs/rc/nosnapshots/V/VaickusL-nb/EDIT_Interns_2024/projects/single_cell_xenium_pred/final_workspace/poc/data/\""
   ]
  },
  {
   "cell_type": "code",
   "execution_count": 3,
   "id": "bc9d4f5d",
   "metadata": {},
   "outputs": [
    {
     "data": {
      "text/html": [
       "<div>\n",
       "<style scoped>\n",
       "    .dataframe tbody tr th:only-of-type {\n",
       "        vertical-align: middle;\n",
       "    }\n",
       "\n",
       "    .dataframe tbody tr th {\n",
       "        vertical-align: top;\n",
       "    }\n",
       "\n",
       "    .dataframe thead th {\n",
       "        text-align: right;\n",
       "    }\n",
       "</style>\n",
       "<table border=\"1\" class=\"dataframe\">\n",
       "  <thead>\n",
       "    <tr style=\"text-align: right;\">\n",
       "      <th></th>\n",
       "      <th>cell_id</th>\n",
       "      <th>arr_index</th>\n",
       "      <th>x_centroid</th>\n",
       "      <th>y_centroid</th>\n",
       "      <th>gene_exp_vector</th>\n",
       "    </tr>\n",
       "    <tr>\n",
       "      <th>index</th>\n",
       "      <th></th>\n",
       "      <th></th>\n",
       "      <th></th>\n",
       "      <th></th>\n",
       "      <th></th>\n",
       "    </tr>\n",
       "  </thead>\n",
       "  <tbody>\n",
       "    <tr>\n",
       "      <th>0</th>\n",
       "      <td>aaaabecc-1</td>\n",
       "      <td>0</td>\n",
       "      <td>3990.303955</td>\n",
       "      <td>4050.244385</td>\n",
       "      <td>[0.0, 0.0, 0.0, 0.0, 0.0, 0.0, 0.0, 0.0, 0.0, ...</td>\n",
       "    </tr>\n",
       "    <tr>\n",
       "      <th>1</th>\n",
       "      <td>aaaabggh-1</td>\n",
       "      <td>1</td>\n",
       "      <td>3913.579102</td>\n",
       "      <td>4072.067383</td>\n",
       "      <td>[0.0, 0.0, 0.0, 0.0, 0.0, 0.0, 0.0, 0.0, 0.0, ...</td>\n",
       "    </tr>\n",
       "    <tr>\n",
       "      <th>2</th>\n",
       "      <td>aaaacpcd-1</td>\n",
       "      <td>2</td>\n",
       "      <td>7792.178223</td>\n",
       "      <td>41386.574219</td>\n",
       "      <td>[0.0, 0.0, 0.005249355919659138, 0.00524935591...</td>\n",
       "    </tr>\n",
       "    <tr>\n",
       "      <th>3</th>\n",
       "      <td>aaaaeclm-1</td>\n",
       "      <td>3</td>\n",
       "      <td>7743.524902</td>\n",
       "      <td>41405.804688</td>\n",
       "      <td>[0.0, 0.0, 0.0068259648978710175, 0.0, 0.01360...</td>\n",
       "    </tr>\n",
       "    <tr>\n",
       "      <th>4</th>\n",
       "      <td>aaaaiale-1</td>\n",
       "      <td>4</td>\n",
       "      <td>7781.018066</td>\n",
       "      <td>41439.066406</td>\n",
       "      <td>[0.0, 0.0, 0.0, 0.0, 0.004914014600217342, 0.0...</td>\n",
       "    </tr>\n",
       "  </tbody>\n",
       "</table>\n",
       "</div>"
      ],
      "text/plain": [
       "          cell_id  arr_index   x_centroid    y_centroid  \\\n",
       "index                                                     \n",
       "0      aaaabecc-1          0  3990.303955   4050.244385   \n",
       "1      aaaabggh-1          1  3913.579102   4072.067383   \n",
       "2      aaaacpcd-1          2  7792.178223  41386.574219   \n",
       "3      aaaaeclm-1          3  7743.524902  41405.804688   \n",
       "4      aaaaiale-1          4  7781.018066  41439.066406   \n",
       "\n",
       "                                         gene_exp_vector  \n",
       "index                                                     \n",
       "0      [0.0, 0.0, 0.0, 0.0, 0.0, 0.0, 0.0, 0.0, 0.0, ...  \n",
       "1      [0.0, 0.0, 0.0, 0.0, 0.0, 0.0, 0.0, 0.0, 0.0, ...  \n",
       "2      [0.0, 0.0, 0.005249355919659138, 0.00524935591...  \n",
       "3      [0.0, 0.0, 0.0068259648978710175, 0.0, 0.01360...  \n",
       "4      [0.0, 0.0, 0.0, 0.0, 0.004914014600217342, 0.0...  "
      ]
     },
     "execution_count": 3,
     "metadata": {},
     "output_type": "execute_result"
    }
   ],
   "source": [
    "df = pd.read_parquet(data_path + 'spatially_var_10_df.parquet')\n",
    "df.head()"
   ]
  },
  {
   "cell_type": "markdown",
   "id": "fdea573c",
   "metadata": {},
   "source": [
    "<h1>Patching</h1>"
   ]
  },
  {
   "cell_type": "code",
   "execution_count": 4,
   "id": "da6d0cf2",
   "metadata": {},
   "outputs": [],
   "source": [
    "he_path = r\"/dartfs/rc/nosnapshots/V/VaickusL-nb/EDIT_Interns_2024/projects/single_cell_xenium_pred/open_source_temp_data/Xenium_V1_FFPE_Human_Breast_IDC_With_Addon_he_image.ome.tif\""
   ]
  },
  {
   "cell_type": "code",
   "execution_count": 5,
   "id": "203b3d30",
   "metadata": {},
   "outputs": [],
   "source": [
    "#import h&e tiff\n",
    "import tifffile\n",
    "he_load = tifffile.imread(he_path, is_ome = True, level = 0, aszarr = False)"
   ]
  },
  {
   "cell_type": "code",
   "execution_count": 6,
   "id": "c328fcca",
   "metadata": {},
   "outputs": [],
   "source": [
    "#store as PIL img\n",
    "he_img = Image.fromarray(he_load.transpose(1,2,0))"
   ]
  },
  {
   "cell_type": "code",
   "execution_count": 7,
   "id": "431a312b",
   "metadata": {},
   "outputs": [
    {
     "data": {
      "text/plain": [
       "(48441, 53833)"
      ]
     },
     "execution_count": 7,
     "metadata": {},
     "output_type": "execute_result"
    }
   ],
   "source": [
    "wsi_size = he_img.size\n",
    "wsi_size"
   ]
  },
  {
   "cell_type": "code",
   "execution_count": 8,
   "id": "56b26b22",
   "metadata": {},
   "outputs": [],
   "source": [
    "patch_size = 1024"
   ]
  },
  {
   "cell_type": "code",
   "execution_count": 9,
   "id": "8ea100f8",
   "metadata": {},
   "outputs": [],
   "source": [
    "num_x_patches = wsi_size[0] // patch_size\n",
    "num_y_patches = wsi_size[1] // patch_size"
   ]
  },
  {
   "cell_type": "code",
   "execution_count": 10,
   "id": "7ca32c1a",
   "metadata": {},
   "outputs": [
    {
     "name": "stdout",
     "output_type": "stream",
     "text": [
      "47\n",
      "52\n"
     ]
    }
   ],
   "source": [
    "print(num_x_patches)\n",
    "print(num_y_patches)"
   ]
  },
  {
   "cell_type": "code",
   "execution_count": 11,
   "id": "372b0e07",
   "metadata": {},
   "outputs": [],
   "source": [
    "df['patch_x'] = df['x_centroid'] // patch_size\n",
    "df['patch_y'] = df['y_centroid'] // patch_size"
   ]
  },
  {
   "cell_type": "code",
   "execution_count": 12,
   "id": "a3b0cc4d",
   "metadata": {},
   "outputs": [],
   "source": [
    "df['patch_index'] = df['patch_y'] * (num_x_patches + 1) + df['patch_x']"
   ]
  },
  {
   "cell_type": "code",
   "execution_count": 13,
   "id": "35752a44",
   "metadata": {},
   "outputs": [],
   "source": [
    "lens = []\n",
    "for patch_index in list(set(df['patch_index'])):\n",
    "    lens.append(len(df[df['patch_index'] == patch_index]))"
   ]
  },
  {
   "cell_type": "code",
   "execution_count": 14,
   "id": "5b301606",
   "metadata": {},
   "outputs": [
    {
     "name": "stdout",
     "output_type": "stream",
     "text": [
      "Avg Cells/Patch: 332\n"
     ]
    }
   ],
   "source": [
    "print(\"Avg Cells/Patch:\", int(np.mean(lens)))"
   ]
  },
  {
   "cell_type": "markdown",
   "id": "7ba044a4",
   "metadata": {},
   "source": [
    "<h1>Train/Val/Test Split</h1>"
   ]
  },
  {
   "cell_type": "code",
   "execution_count": 15,
   "id": "d8e774cf",
   "metadata": {},
   "outputs": [],
   "source": [
    "df['set'] = np.full(len(df), \"unassigned\")"
   ]
  },
  {
   "cell_type": "code",
   "execution_count": 16,
   "id": "f1001f42",
   "metadata": {},
   "outputs": [
    {
     "data": {
      "text/html": [
       "<div>\n",
       "<style scoped>\n",
       "    .dataframe tbody tr th:only-of-type {\n",
       "        vertical-align: middle;\n",
       "    }\n",
       "\n",
       "    .dataframe tbody tr th {\n",
       "        vertical-align: top;\n",
       "    }\n",
       "\n",
       "    .dataframe thead th {\n",
       "        text-align: right;\n",
       "    }\n",
       "</style>\n",
       "<table border=\"1\" class=\"dataframe\">\n",
       "  <thead>\n",
       "    <tr style=\"text-align: right;\">\n",
       "      <th></th>\n",
       "      <th>cell_id</th>\n",
       "      <th>arr_index</th>\n",
       "      <th>x_centroid</th>\n",
       "      <th>y_centroid</th>\n",
       "      <th>gene_exp_vector</th>\n",
       "      <th>patch_x</th>\n",
       "      <th>patch_y</th>\n",
       "      <th>patch_index</th>\n",
       "      <th>set</th>\n",
       "    </tr>\n",
       "  </thead>\n",
       "  <tbody>\n",
       "    <tr>\n",
       "      <th>0</th>\n",
       "      <td>bcpifpik-1</td>\n",
       "      <td>46651</td>\n",
       "      <td>10540.112305</td>\n",
       "      <td>34214.886719</td>\n",
       "      <td>[0.0, 0.0, 0.0, 0.0, 0.014184635132551193, 0.0...</td>\n",
       "      <td>10.0</td>\n",
       "      <td>33.0</td>\n",
       "      <td>1594.0</td>\n",
       "      <td>unassigned</td>\n",
       "    </tr>\n",
       "    <tr>\n",
       "      <th>1</th>\n",
       "      <td>fnlcbdep-1</td>\n",
       "      <td>232526</td>\n",
       "      <td>10725.459961</td>\n",
       "      <td>49715.078125</td>\n",
       "      <td>[0.0, 0.0, 0.0, 0.0, 0.0, 0.0, 0.0, 0.0, 0.0, ...</td>\n",
       "      <td>10.0</td>\n",
       "      <td>48.0</td>\n",
       "      <td>2314.0</td>\n",
       "      <td>unassigned</td>\n",
       "    </tr>\n",
       "    <tr>\n",
       "      <th>2</th>\n",
       "      <td>afdjlnki-1</td>\n",
       "      <td>12819</td>\n",
       "      <td>16873.613281</td>\n",
       "      <td>27834.960938</td>\n",
       "      <td>[0.0, 0.0, 0.0, 0.0, 0.0, 0.0, 0.0, 0.0, 0.0, ...</td>\n",
       "      <td>16.0</td>\n",
       "      <td>27.0</td>\n",
       "      <td>1312.0</td>\n",
       "      <td>unassigned</td>\n",
       "    </tr>\n",
       "    <tr>\n",
       "      <th>3</th>\n",
       "      <td>blmlpfic-1</td>\n",
       "      <td>68400</td>\n",
       "      <td>26947.134766</td>\n",
       "      <td>50727.183594</td>\n",
       "      <td>[0.0, 0.005479465704411268, 0.0054794657044112...</td>\n",
       "      <td>26.0</td>\n",
       "      <td>49.0</td>\n",
       "      <td>2378.0</td>\n",
       "      <td>unassigned</td>\n",
       "    </tr>\n",
       "    <tr>\n",
       "      <th>4</th>\n",
       "      <td>balepllg-1</td>\n",
       "      <td>41088</td>\n",
       "      <td>37204.671875</td>\n",
       "      <td>15922.397461</td>\n",
       "      <td>[0.0, 0.0, 0.0, 0.0, 0.0, 0.0, 0.0, 0.0, 0.0, ...</td>\n",
       "      <td>36.0</td>\n",
       "      <td>15.0</td>\n",
       "      <td>756.0</td>\n",
       "      <td>unassigned</td>\n",
       "    </tr>\n",
       "  </tbody>\n",
       "</table>\n",
       "</div>"
      ],
      "text/plain": [
       "      cell_id  arr_index    x_centroid    y_centroid  \\\n",
       "0  bcpifpik-1      46651  10540.112305  34214.886719   \n",
       "1  fnlcbdep-1     232526  10725.459961  49715.078125   \n",
       "2  afdjlnki-1      12819  16873.613281  27834.960938   \n",
       "3  blmlpfic-1      68400  26947.134766  50727.183594   \n",
       "4  balepllg-1      41088  37204.671875  15922.397461   \n",
       "\n",
       "                                     gene_exp_vector  patch_x  patch_y  \\\n",
       "0  [0.0, 0.0, 0.0, 0.0, 0.014184635132551193, 0.0...     10.0     33.0   \n",
       "1  [0.0, 0.0, 0.0, 0.0, 0.0, 0.0, 0.0, 0.0, 0.0, ...     10.0     48.0   \n",
       "2  [0.0, 0.0, 0.0, 0.0, 0.0, 0.0, 0.0, 0.0, 0.0, ...     16.0     27.0   \n",
       "3  [0.0, 0.005479465704411268, 0.0054794657044112...     26.0     49.0   \n",
       "4  [0.0, 0.0, 0.0, 0.0, 0.0, 0.0, 0.0, 0.0, 0.0, ...     36.0     15.0   \n",
       "\n",
       "   patch_index         set  \n",
       "0       1594.0  unassigned  \n",
       "1       2314.0  unassigned  \n",
       "2       1312.0  unassigned  \n",
       "3       2378.0  unassigned  \n",
       "4        756.0  unassigned  "
      ]
     },
     "execution_count": 16,
     "metadata": {},
     "output_type": "execute_result"
    }
   ],
   "source": [
    "df = df.sample(frac=1).reset_index(drop=True)\n",
    "df.head()"
   ]
  },
  {
   "cell_type": "code",
   "execution_count": 17,
   "id": "5b82af1f",
   "metadata": {},
   "outputs": [],
   "source": [
    "patch_indexes = np.array(list(set(df['patch_index'])))"
   ]
  },
  {
   "cell_type": "code",
   "execution_count": 18,
   "id": "e5e99ab8",
   "metadata": {},
   "outputs": [],
   "source": [
    "train_upper = int(np.percentile(patch_indexes, 75))\n",
    "val_upper = int(np.percentile(patch_indexes, 85))"
   ]
  },
  {
   "cell_type": "code",
   "execution_count": 19,
   "id": "fa582a9e",
   "metadata": {},
   "outputs": [
    {
     "name": "stdout",
     "output_type": "stream",
     "text": [
      "1857\n",
      "2084\n"
     ]
    }
   ],
   "source": [
    "print(train_upper)\n",
    "print(val_upper)"
   ]
  },
  {
   "cell_type": "code",
   "execution_count": 20,
   "id": "153e19bc",
   "metadata": {},
   "outputs": [],
   "source": [
    "unique_patch_indices = df['patch_index'].unique()\n",
    "np.random.shuffle(unique_patch_indices)\n",
    "num_patches = len(unique_patch_indices)\n",
    "\n",
    "train_split = int(0.75 * num_patches)\n",
    "val_split = int(0.1 * num_patches)\n",
    "\n",
    "train_indices = unique_patch_indices[:train_split]\n",
    "val_indices = unique_patch_indices[train_split:train_split + val_split]\n",
    "test_indices = unique_patch_indices[train_split + val_split:]"
   ]
  },
  {
   "cell_type": "code",
   "execution_count": 21,
   "id": "3b195a8c",
   "metadata": {},
   "outputs": [],
   "source": [
    "df['set'] = df['patch_index'].apply(lambda x: 'train' if x in train_indices else ('val' if x in val_indices else 'test'))"
   ]
  },
  {
   "cell_type": "code",
   "execution_count": 22,
   "id": "22099a04",
   "metadata": {},
   "outputs": [
    {
     "name": "stdout",
     "output_type": "stream",
     "text": [
      "433895\n",
      "58785\n",
      "84283\n"
     ]
    }
   ],
   "source": [
    "print(len(df[df['set'] == 'train']))\n",
    "print(len(df[df['set'] == 'val']))\n",
    "print(len(df[df['set'] == 'test']))"
   ]
  },
  {
   "cell_type": "code",
   "execution_count": 23,
   "id": "635c6c23",
   "metadata": {},
   "outputs": [],
   "source": [
    "df_save = df[['cell_id', 'arr_index', 'x_centroid', 'y_centroid', 'gene_exp_vector', 'patch_index', 'set', 'patch_x', 'patch_y']]"
   ]
  },
  {
   "cell_type": "code",
   "execution_count": 24,
   "id": "678eae96",
   "metadata": {},
   "outputs": [
    {
     "data": {
      "text/html": [
       "<div>\n",
       "<style scoped>\n",
       "    .dataframe tbody tr th:only-of-type {\n",
       "        vertical-align: middle;\n",
       "    }\n",
       "\n",
       "    .dataframe tbody tr th {\n",
       "        vertical-align: top;\n",
       "    }\n",
       "\n",
       "    .dataframe thead th {\n",
       "        text-align: right;\n",
       "    }\n",
       "</style>\n",
       "<table border=\"1\" class=\"dataframe\">\n",
       "  <thead>\n",
       "    <tr style=\"text-align: right;\">\n",
       "      <th></th>\n",
       "      <th>cell_id</th>\n",
       "      <th>arr_index</th>\n",
       "      <th>x_centroid</th>\n",
       "      <th>y_centroid</th>\n",
       "      <th>gene_exp_vector</th>\n",
       "      <th>patch_x</th>\n",
       "      <th>patch_y</th>\n",
       "      <th>patch_index</th>\n",
       "      <th>set</th>\n",
       "    </tr>\n",
       "  </thead>\n",
       "  <tbody>\n",
       "    <tr>\n",
       "      <th>0</th>\n",
       "      <td>bcpifpik-1</td>\n",
       "      <td>46651</td>\n",
       "      <td>10540.112305</td>\n",
       "      <td>34214.886719</td>\n",
       "      <td>[0.0, 0.0, 0.0, 0.0, 0.014184635132551193, 0.0...</td>\n",
       "      <td>10.0</td>\n",
       "      <td>33.0</td>\n",
       "      <td>1594.0</td>\n",
       "      <td>train</td>\n",
       "    </tr>\n",
       "    <tr>\n",
       "      <th>1</th>\n",
       "      <td>fnlcbdep-1</td>\n",
       "      <td>232526</td>\n",
       "      <td>10725.459961</td>\n",
       "      <td>49715.078125</td>\n",
       "      <td>[0.0, 0.0, 0.0, 0.0, 0.0, 0.0, 0.0, 0.0, 0.0, ...</td>\n",
       "      <td>10.0</td>\n",
       "      <td>48.0</td>\n",
       "      <td>2314.0</td>\n",
       "      <td>train</td>\n",
       "    </tr>\n",
       "    <tr>\n",
       "      <th>2</th>\n",
       "      <td>afdjlnki-1</td>\n",
       "      <td>12819</td>\n",
       "      <td>16873.613281</td>\n",
       "      <td>27834.960938</td>\n",
       "      <td>[0.0, 0.0, 0.0, 0.0, 0.0, 0.0, 0.0, 0.0, 0.0, ...</td>\n",
       "      <td>16.0</td>\n",
       "      <td>27.0</td>\n",
       "      <td>1312.0</td>\n",
       "      <td>train</td>\n",
       "    </tr>\n",
       "    <tr>\n",
       "      <th>3</th>\n",
       "      <td>blmlpfic-1</td>\n",
       "      <td>68400</td>\n",
       "      <td>26947.134766</td>\n",
       "      <td>50727.183594</td>\n",
       "      <td>[0.0, 0.005479465704411268, 0.0054794657044112...</td>\n",
       "      <td>26.0</td>\n",
       "      <td>49.0</td>\n",
       "      <td>2378.0</td>\n",
       "      <td>train</td>\n",
       "    </tr>\n",
       "    <tr>\n",
       "      <th>4</th>\n",
       "      <td>balepllg-1</td>\n",
       "      <td>41088</td>\n",
       "      <td>37204.671875</td>\n",
       "      <td>15922.397461</td>\n",
       "      <td>[0.0, 0.0, 0.0, 0.0, 0.0, 0.0, 0.0, 0.0, 0.0, ...</td>\n",
       "      <td>36.0</td>\n",
       "      <td>15.0</td>\n",
       "      <td>756.0</td>\n",
       "      <td>test</td>\n",
       "    </tr>\n",
       "  </tbody>\n",
       "</table>\n",
       "</div>"
      ],
      "text/plain": [
       "      cell_id  arr_index    x_centroid    y_centroid  \\\n",
       "0  bcpifpik-1      46651  10540.112305  34214.886719   \n",
       "1  fnlcbdep-1     232526  10725.459961  49715.078125   \n",
       "2  afdjlnki-1      12819  16873.613281  27834.960938   \n",
       "3  blmlpfic-1      68400  26947.134766  50727.183594   \n",
       "4  balepllg-1      41088  37204.671875  15922.397461   \n",
       "\n",
       "                                     gene_exp_vector  patch_x  patch_y  \\\n",
       "0  [0.0, 0.0, 0.0, 0.0, 0.014184635132551193, 0.0...     10.0     33.0   \n",
       "1  [0.0, 0.0, 0.0, 0.0, 0.0, 0.0, 0.0, 0.0, 0.0, ...     10.0     48.0   \n",
       "2  [0.0, 0.0, 0.0, 0.0, 0.0, 0.0, 0.0, 0.0, 0.0, ...     16.0     27.0   \n",
       "3  [0.0, 0.005479465704411268, 0.0054794657044112...     26.0     49.0   \n",
       "4  [0.0, 0.0, 0.0, 0.0, 0.0, 0.0, 0.0, 0.0, 0.0, ...     36.0     15.0   \n",
       "\n",
       "   patch_index    set  \n",
       "0       1594.0  train  \n",
       "1       2314.0  train  \n",
       "2       1312.0  train  \n",
       "3       2378.0  train  \n",
       "4        756.0   test  "
      ]
     },
     "execution_count": 24,
     "metadata": {},
     "output_type": "execute_result"
    }
   ],
   "source": [
    "df.head()"
   ]
  },
  {
   "cell_type": "code",
   "execution_count": 26,
   "id": "3e0bb89d",
   "metadata": {},
   "outputs": [
    {
     "data": {
      "text/plain": [
       "[0.0, 0.0, 0.0, 0.0, 0.014184635132551193, 0.0, 0.0, 0.0, 0.0, 0.0]"
      ]
     },
     "execution_count": 26,
     "metadata": {},
     "output_type": "execute_result"
    }
   ],
   "source": [
    "df.at[0, 'gene_exp_vector']"
   ]
  },
  {
   "cell_type": "code",
   "execution_count": 25,
   "id": "54b7a4eb",
   "metadata": {},
   "outputs": [],
   "source": [
    "df.to_parquet(data_path + \"spatially_var_10_patched_df.parquet\")"
   ]
  }
 ],
 "metadata": {
  "kernelspec": {
   "display_name": "Python 3 (ipykernel)",
   "language": "python",
   "name": "python3"
  },
  "language_info": {
   "codemirror_mode": {
    "name": "ipython",
    "version": 3
   },
   "file_extension": ".py",
   "mimetype": "text/x-python",
   "name": "python",
   "nbconvert_exporter": "python",
   "pygments_lexer": "ipython3",
   "version": "3.11.4"
  }
 },
 "nbformat": 4,
 "nbformat_minor": 5
}
