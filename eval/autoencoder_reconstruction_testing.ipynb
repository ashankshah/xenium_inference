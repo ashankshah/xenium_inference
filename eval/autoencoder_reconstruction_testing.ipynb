{
 "cells": [
  {
   "cell_type": "code",
   "execution_count": 1,
   "id": "e4aa831b",
   "metadata": {},
   "outputs": [],
   "source": [
    "import numpy as np\n",
    "import torch\n",
    "import torchvision\n",
    "import pandas as pd\n",
    "import matplotlib.pyplot as plt\n",
    "import PIL\n",
    "from PIL import Image\n",
    "import cv2\n",
    "from tqdm import tqdm\n",
    "import tifffile\n",
    "import dask.dataframe as dd\n",
    "import gzip\n",
    "import shutil\n",
    "import h5py\n",
    "import torch.nn as nn\n",
    "import torch.optim as optim\n",
    "import torch.nn.functional as F\n",
    "from torch.utils.data import Dataset, DataLoader, random_split\n",
    "from torch.optim.lr_scheduler import ReduceLROnPlateau\n",
    "import psutil\n",
    "import torchvision\n",
    "from torchvision import datasets, models, transforms"
   ]
  },
  {
   "cell_type": "code",
   "execution_count": 2,
   "id": "254daaed",
   "metadata": {},
   "outputs": [
    {
     "data": {
      "text/plain": [
       "device(type='cuda')"
      ]
     },
     "execution_count": 2,
     "metadata": {},
     "output_type": "execute_result"
    }
   ],
   "source": [
    "device = torch.device('cuda' if torch.cuda.is_available() else 'cpu')\n",
    "device"
   ]
  },
  {
   "cell_type": "code",
   "execution_count": 3,
   "id": "024c85e1",
   "metadata": {},
   "outputs": [],
   "source": [
    "data_path = r\"/dartfs/rc/nosnapshots/V/VaickusL-nb/EDIT_Interns_2024/projects/single_cell_xenium_pred/final_workspace/poc/data/\""
   ]
  },
  {
   "cell_type": "code",
   "execution_count": 4,
   "id": "7daae325",
   "metadata": {},
   "outputs": [],
   "source": [
    "df = pd.read_parquet(data_path + \"spatially_var_10_patched_df.parquet\")"
   ]
  },
  {
   "cell_type": "code",
   "execution_count": 5,
   "id": "454b65eb",
   "metadata": {},
   "outputs": [
    {
     "data": {
      "text/plain": [
       "576963"
      ]
     },
     "execution_count": 5,
     "metadata": {},
     "output_type": "execute_result"
    }
   ],
   "source": [
    "len(df)"
   ]
  },
  {
   "cell_type": "code",
   "execution_count": 6,
   "id": "b976ca76",
   "metadata": {},
   "outputs": [],
   "source": [
    "test_df = df[df['set'] == 'test']"
   ]
  },
  {
   "cell_type": "code",
   "execution_count": 7,
   "id": "76da1cd4",
   "metadata": {},
   "outputs": [],
   "source": [
    "test_gene_exp = np.array(test_df['gene_exp_vector'])"
   ]
  },
  {
   "cell_type": "code",
   "execution_count": 8,
   "id": "980762e3",
   "metadata": {},
   "outputs": [],
   "source": [
    "with h5py.File(data_path + \"meansize_cells.h5\", 'r') as hf:\n",
    "    cells_arr = np.array(hf['cells'])"
   ]
  },
  {
   "cell_type": "code",
   "execution_count": 9,
   "id": "36e89d26",
   "metadata": {},
   "outputs": [],
   "source": [
    "test_cells_arr = np.zeros((len(test_df), 64, 64, 3))"
   ]
  },
  {
   "cell_type": "code",
   "execution_count": 10,
   "id": "c6ea0218",
   "metadata": {},
   "outputs": [
    {
     "name": "stderr",
     "output_type": "stream",
     "text": [
      "100%|███████████████████████████████████████████████████████████████████████████████████████| 84283/84283 [00:04<00:00, 19501.42it/s]\n"
     ]
    }
   ],
   "source": [
    "index = 0\n",
    "for i, row in tqdm(test_df.iterrows(), total = len(test_df)):\n",
    "    test_cells_arr[index] = cells_arr[row['arr_index']]\n",
    "    index += 1"
   ]
  },
  {
   "cell_type": "code",
   "execution_count": 11,
   "id": "f4b8249e",
   "metadata": {},
   "outputs": [],
   "source": [
    "class custom_dataset(Dataset):\n",
    "    def __init__(self, cells, vectors, transform=None):\n",
    "        self.cells = cells\n",
    "        self.vectors = vectors\n",
    "        self.transform = transform\n",
    "\n",
    "    def __len__(self):\n",
    "        return len(self.cells)\n",
    "\n",
    "    def __getitem__(self, idx):\n",
    "        cell = self.cells[idx]\n",
    "        vector = self.vectors[idx]\n",
    "        \n",
    "        cell = cell / 255.0\n",
    "        \n",
    "        if self.transform:\n",
    "            image = self.transform(image)\n",
    "            \n",
    "        cell = torch.tensor(cell, dtype=torch.float32).permute(2,0,1)\n",
    "        vector = torch.tensor(vector, dtype=torch.float32)\n",
    "\n",
    "        return cell, vector"
   ]
  },
  {
   "cell_type": "code",
   "execution_count": 12,
   "id": "a56edc80",
   "metadata": {},
   "outputs": [],
   "source": [
    "test_dataset = custom_dataset(test_cells_arr, test_gene_exp)"
   ]
  },
  {
   "cell_type": "code",
   "execution_count": 13,
   "id": "474dbc81",
   "metadata": {},
   "outputs": [],
   "source": [
    "test_loader = DataLoader(test_dataset, batch_size = 32)"
   ]
  },
  {
   "cell_type": "code",
   "execution_count": 14,
   "id": "1fad289a",
   "metadata": {},
   "outputs": [],
   "source": [
    "class cell_autoencoder(nn.Module):\n",
    "    def __init__(self):\n",
    "        super(cell_autoencoder, self).__init__()\n",
    "        \n",
    "        self.encoder = nn.Sequential(\n",
    "            nn.Conv2d(3, 32, kernel_size=3, stride=1, padding=1),\n",
    "            nn.ReLU(True),\n",
    "            nn.MaxPool2d(2, stride=2), \n",
    "            nn.Conv2d(32, 64, kernel_size=3, stride=1, padding=1),\n",
    "            nn.ReLU(True),\n",
    "            nn.MaxPool2d(2, stride=2),\n",
    "            nn.Conv2d(64, 128, kernel_size=3, stride=1, padding=1),\n",
    "            nn.ReLU(True),\n",
    "            nn.MaxPool2d(2, stride=2),\n",
    "            nn.Conv2d(128, 256, kernel_size=3, stride=1, padding=1),\n",
    "            nn.ReLU(True),\n",
    "            nn.MaxPool2d(2, stride=2),\n",
    "            nn.Flatten(), \n",
    "            nn.Linear(4*4*256, 512),\n",
    "            nn.ReLU(True),\n",
    "            nn.Dropout(0.5),\n",
    "            nn.Linear(512, 128)\n",
    "        )\n",
    "        \n",
    "        self.decoder = nn.Sequential(\n",
    "            nn.Linear(128, 512),\n",
    "            nn.ReLU(True),\n",
    "            nn.Dropout(0.5),\n",
    "            nn.Linear(512, 4*4*256),\n",
    "            nn.ReLU(True),\n",
    "            nn.Unflatten(1, (256, 4, 4)),\n",
    "            nn.ConvTranspose2d(256, 128, kernel_size=3, stride=2, padding=1, output_padding=1), \n",
    "            nn.ReLU(True),\n",
    "            nn.ConvTranspose2d(128, 64, kernel_size=3, stride=2, padding=1, output_padding=1), \n",
    "            nn.ReLU(True),\n",
    "            nn.ConvTranspose2d(64, 32, kernel_size=3, stride=2, padding=1, output_padding=1),\n",
    "            nn.ReLU(True),\n",
    "            nn.ConvTranspose2d(32, 3, kernel_size=3, stride=2, padding=1, output_padding=1),\n",
    "            nn.ReLU(True),\n",
    "        )\n",
    "        \n",
    "    def forward(self, x):\n",
    "        x = self.encoder(x)\n",
    "        x = self.decoder(x)\n",
    "        return x"
   ]
  },
  {
   "cell_type": "code",
   "execution_count": 15,
   "id": "35989352",
   "metadata": {},
   "outputs": [],
   "source": [
    "model = cell_autoencoder().to(device)"
   ]
  },
  {
   "cell_type": "code",
   "execution_count": 16,
   "id": "fd2bcc74",
   "metadata": {},
   "outputs": [
    {
     "data": {
      "text/plain": [
       "<All keys matched successfully>"
      ]
     },
     "execution_count": 16,
     "metadata": {},
     "output_type": "execute_result"
    }
   ],
   "source": [
    "model_path = \"/dartfs/rc/nosnapshots/V/VaickusL-nb/EDIT_Interns_2024/projects/single_cell_xenium_pred/final_workspace/models/\"\n",
    "checkpoint = torch.load(model_path + \"autoencoder.pth\")\n",
    "model.load_state_dict(checkpoint['model_state_dict'])"
   ]
  },
  {
   "cell_type": "code",
   "execution_count": 17,
   "id": "4537bd09",
   "metadata": {},
   "outputs": [
    {
     "data": {
      "text/plain": [
       "cell_autoencoder(\n",
       "  (encoder): Sequential(\n",
       "    (0): Conv2d(3, 32, kernel_size=(3, 3), stride=(1, 1), padding=(1, 1))\n",
       "    (1): ReLU(inplace=True)\n",
       "    (2): MaxPool2d(kernel_size=2, stride=2, padding=0, dilation=1, ceil_mode=False)\n",
       "    (3): Conv2d(32, 64, kernel_size=(3, 3), stride=(1, 1), padding=(1, 1))\n",
       "    (4): ReLU(inplace=True)\n",
       "    (5): MaxPool2d(kernel_size=2, stride=2, padding=0, dilation=1, ceil_mode=False)\n",
       "    (6): Conv2d(64, 128, kernel_size=(3, 3), stride=(1, 1), padding=(1, 1))\n",
       "    (7): ReLU(inplace=True)\n",
       "    (8): MaxPool2d(kernel_size=2, stride=2, padding=0, dilation=1, ceil_mode=False)\n",
       "    (9): Conv2d(128, 256, kernel_size=(3, 3), stride=(1, 1), padding=(1, 1))\n",
       "    (10): ReLU(inplace=True)\n",
       "    (11): MaxPool2d(kernel_size=2, stride=2, padding=0, dilation=1, ceil_mode=False)\n",
       "    (12): Flatten(start_dim=1, end_dim=-1)\n",
       "    (13): Linear(in_features=4096, out_features=512, bias=True)\n",
       "    (14): ReLU(inplace=True)\n",
       "    (15): Dropout(p=0.5, inplace=False)\n",
       "    (16): Linear(in_features=512, out_features=128, bias=True)\n",
       "  )\n",
       "  (decoder): Sequential(\n",
       "    (0): Linear(in_features=128, out_features=512, bias=True)\n",
       "    (1): ReLU(inplace=True)\n",
       "    (2): Dropout(p=0.5, inplace=False)\n",
       "    (3): Linear(in_features=512, out_features=4096, bias=True)\n",
       "    (4): ReLU(inplace=True)\n",
       "    (5): Unflatten(dim=1, unflattened_size=(256, 4, 4))\n",
       "    (6): ConvTranspose2d(256, 128, kernel_size=(3, 3), stride=(2, 2), padding=(1, 1), output_padding=(1, 1))\n",
       "    (7): ReLU(inplace=True)\n",
       "    (8): ConvTranspose2d(128, 64, kernel_size=(3, 3), stride=(2, 2), padding=(1, 1), output_padding=(1, 1))\n",
       "    (9): ReLU(inplace=True)\n",
       "    (10): ConvTranspose2d(64, 32, kernel_size=(3, 3), stride=(2, 2), padding=(1, 1), output_padding=(1, 1))\n",
       "    (11): ReLU(inplace=True)\n",
       "    (12): ConvTranspose2d(32, 3, kernel_size=(3, 3), stride=(2, 2), padding=(1, 1), output_padding=(1, 1))\n",
       "    (13): ReLU(inplace=True)\n",
       "  )\n",
       ")"
      ]
     },
     "execution_count": 17,
     "metadata": {},
     "output_type": "execute_result"
    }
   ],
   "source": [
    "model.eval()"
   ]
  },
  {
   "cell_type": "code",
   "execution_count": 18,
   "id": "d1fc418e",
   "metadata": {},
   "outputs": [
    {
     "data": {
      "text/plain": [
       "0.003482921291963563"
      ]
     },
     "execution_count": 18,
     "metadata": {},
     "output_type": "execute_result"
    }
   ],
   "source": [
    "checkpoint['loss']"
   ]
  },
  {
   "cell_type": "code",
   "execution_count": 24,
   "id": "8be74c11",
   "metadata": {},
   "outputs": [
    {
     "name": "stdout",
     "output_type": "stream",
     "text": [
      "torch.Size([32, 3, 64, 64])\n",
      "torch.Size([32, 10])\n",
      "torch.Size([32, 3, 64, 64])\n"
     ]
    }
   ],
   "source": [
    "for batch in test_loader:\n",
    "    cells, exp = batch\n",
    "    cells = cells.to(device)\n",
    "    exp = exp.to(device)\n",
    "    print(cells.shape)\n",
    "    print(exp.shape)\n",
    "    outputs = model(cells)\n",
    "    print(outputs.shape)\n",
    "    break"
   ]
  },
  {
   "cell_type": "code",
   "execution_count": 36,
   "id": "d1f22537",
   "metadata": {},
   "outputs": [],
   "source": [
    "cells_display = cells"
   ]
  },
  {
   "cell_type": "code",
   "execution_count": 37,
   "id": "03f71788",
   "metadata": {},
   "outputs": [],
   "source": [
    "outputs_display = outputs"
   ]
  },
  {
   "cell_type": "code",
   "execution_count": 44,
   "id": "c6cfbd0e",
   "metadata": {},
   "outputs": [
    {
     "data": {
      "text/plain": [
       "32"
      ]
     },
     "execution_count": 44,
     "metadata": {},
     "output_type": "execute_result"
    }
   ],
   "source": [
    "len(cells_display)"
   ]
  },
  {
   "cell_type": "code",
   "execution_count": 28,
   "id": "c5056db6",
   "metadata": {},
   "outputs": [
    {
     "data": {
      "text/plain": [
       "<matplotlib.image.AxesImage at 0x14df43cddd90>"
      ]
     },
     "execution_count": 28,
     "metadata": {},
     "output_type": "execute_result"
    },
    {
     "data": {
      "image/png": "[encoded data removed]",
      "text/plain": [
       "<Figure size 640x480 with 1 Axes>"
      ]
     },
     "metadata": {},
     "output_type": "display_data"
    }
   ],
   "source": [
    "plt.imshow(np.transpose(outputs_display[8].cpu().detach().numpy(), (1,2,0)))"
   ]
  },
  {
   "cell_type": "code",
   "execution_count": 29,
   "id": "bd6c988c",
   "metadata": {},
   "outputs": [
    {
     "data": {
      "text/plain": [
       "<matplotlib.image.AxesImage at 0x14df43d3cb50>"
      ]
     },
     "execution_count": 29,
     "metadata": {},
     "output_type": "execute_result"
    },
    {
     "data": {
      "image/png": "[encoded data removed]",
      "text/plain": [
       "<Figure size 640x480 with 1 Axes>"
      ]
     },
     "metadata": {},
     "output_type": "display_data"
    }
   ],
   "source": [
    "plt.imshow(np.transpose(cells_display[8].cpu().detach().numpy(), (1,2,0)))"
   ]
  },
  {
   "cell_type": "code",
   "execution_count": null,
   "id": "ad99ead2",
   "metadata": {},
   "outputs": [],
   "source": [
    "import matplotlib.pyplot as plt\n",
    "\n",
    "fig, axes = plt.subplots(nrows=8, ncols=8, figsize=(16, 16))\n",
    "\n",
    "for i in range(8):\n",
    "    axes[i, 0].imshow(np.transpose(cells_display[i].cpu().detach().numpy(), (1,2,0)))\n",
    "    axes[i, 1].imshow(np.transpose(outputs_display[i].cpu().detach().numpy(), (1,2,0)))\n",
    "    axes[i, 2].imshow(np.transpose(cells_display[i+8].cpu().detach().numpy(), (1,2,0)))\n",
    "    axes[i, 3].imshow(np.transpose(outputs_display[i+8].cpu().detach().numpy(), (1,2,0)))\n",
    "#     axes[i, 4].imshow(np.transpose(cells_display[i+16].cpu().detach().numpy(), (1,2,0)))\n",
    "#     axes[i, 5].imshow(np.transpose(outputs_display[i+16].cpu().detach().numpy(), (1,2,0)))\n",
    "#     axes[i, 6].imshow(np.transpose(cells_display[i+24].cpu().detach().numpy(), (1,2,0)))\n",
    "#     axes[i, 7].imshow(np.transpose(outputs_display[i+24].cpu().detach().numpy(), (1,2,0)))\n",
    "    \n",
    "for ax in axes.flat:\n",
    "    ax.grid(True, which='both', linestyle='--', linewidth=0.5)\n",
    "    ax.set_xticks([])\n",
    "    ax.set_yticks([])\n",
    "\n",
    "columns = ['Original', 'Reconstructed', 'Original', 'Reconstructed', 'Original', 'Reconstructed', 'Original', 'Reconstructed']\n",
    "for ax, col in zip(axes[0], columns):\n",
    "    ax.set_title(col, fontsize=16)\n",
    "    \n",
    "# for i in range(1, 4):\n",
    "#     fig.axes[2*i - 1].axvline(x=64, color='black', linewidth=2)\n",
    "    \n",
    "plt.tight_layout()\n",
    "plt.show()"
   ]
  }
 ],
 "metadata": {
  "kernelspec": {
   "display_name": "Python 3 (ipykernel)",
   "language": "python",
   "name": "python3"
  },
  "language_info": {
   "codemirror_mode": {
    "name": "ipython",
    "version": 3
   },
   "file_extension": ".py",
   "mimetype": "text/x-python",
   "name": "python",
   "nbconvert_exporter": "python",
   "pygments_lexer": "ipython3",
   "version": "3.11.4"
  }
 },
 "nbformat": 4,
 "nbformat_minor": 5
}
