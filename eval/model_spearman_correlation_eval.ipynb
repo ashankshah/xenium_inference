{
 "cells": [
  {
   "cell_type": "code",
   "execution_count": 1,
   "id": "b5b9d423",
   "metadata": {},
   "outputs": [],
   "source": [
    "import torch\n",
    "import torch.nn as nn\n",
    "import numpy as np\n",
    "import pandas as pd\n",
    "import h5py\n",
    "from tqdm import tqdm\n",
    "from torch.utils.data import Dataset, DataLoader, random_split\n",
    "import torch.nn.functional as F\n",
    "import matplotlib.pyplot as plt\n",
    "import torchvision\n",
    "from torchvision import datasets, models, transforms"
   ]
  },
  {
   "cell_type": "code",
   "execution_count": 4,
   "id": "0d2a6944",
   "metadata": {},
   "outputs": [],
   "source": [
    "data_path = r\"/dartfs/rc/nosnapshots/V/VaickusL-nb/EDIT_Interns_2024/projects/single_cell_xenium_pred/final_workspace/poc/data/\""
   ]
  },
  {
   "cell_type": "code",
   "execution_count": 3,
   "id": "142bfd7b",
   "metadata": {},
   "outputs": [
    {
     "data": {
      "text/plain": [
       "device(type='cuda')"
      ]
     },
     "execution_count": 3,
     "metadata": {},
     "output_type": "execute_result"
    }
   ],
   "source": [
    "device = torch.device('cuda' if torch.cuda.is_available() else 'cpu')\n",
    "device"
   ]
  },
  {
   "cell_type": "code",
   "execution_count": 4,
   "id": "948b03e3",
   "metadata": {},
   "outputs": [],
   "source": [
    "class CNN(nn.Module):\n",
    "    def __init__(self):\n",
    "        super(CNN, self).__init__()\n",
    "        \n",
    "        self.conv1 = nn.Conv2d(in_channels=3, out_channels=32, kernel_size=3, padding=1)\n",
    "        self.bn1 = nn.BatchNorm2d(32)\n",
    "        self.pool = nn.MaxPool2d(kernel_size=2, stride=2)\n",
    "        \n",
    "        self.conv2 = nn.Conv2d(in_channels=32, out_channels=64, kernel_size=3, padding=1)\n",
    "        self.bn2 = nn.BatchNorm2d(64)\n",
    "        \n",
    "        self.conv3 = nn.Conv2d(in_channels=64, out_channels=128, kernel_size=3, padding=1)\n",
    "        self.bn3 = nn.BatchNorm2d(128)\n",
    "        \n",
    "        self.conv4 = nn.Conv2d(in_channels=128, out_channels=256, kernel_size=3, padding=1)\n",
    "        self.bn4 = nn.BatchNorm2d(256)\n",
    "        \n",
    "        self.fc1 = nn.Linear(256 * 4 * 4, 256) \n",
    "        self.fc2 = nn.Linear(256, 128)\n",
    "        self.fc3 = nn.Linear(128, 10)\n",
    "        self.dropout = nn.Dropout(0.5)\n",
    "\n",
    "    def forward(self, x):\n",
    "        x = self.pool(F.relu(self.bn1(self.conv1(x))))\n",
    "        x = self.pool(F.relu(self.bn2(self.conv2(x))))\n",
    "        x = self.pool(F.relu(self.bn3(self.conv3(x))))\n",
    "        x = self.pool(F.relu(self.bn4(self.conv4(x))))\n",
    "        x = x.view(-1, 256 * 4 * 4)\n",
    "        \n",
    "        x = F.relu(self.fc1(x))\n",
    "        x = self.dropout(x)\n",
    "        x = self.fc2(x)\n",
    "        x = self.fc3(x)\n",
    "        \n",
    "        return x"
   ]
  },
  {
   "cell_type": "code",
   "execution_count": 5,
   "id": "18f50623",
   "metadata": {},
   "outputs": [
    {
     "name": "stderr",
     "output_type": "stream",
     "text": [
      "100%|████████████████████████████████████████████████████████████████████████████████████████| 84283/84283 [00:09<00:00, 9284.13it/s]\n"
     ]
    }
   ],
   "source": [
    "df = pd.read_parquet(data_path + \"spatially_var_10_patched_df.parquet\")\n",
    "\n",
    "test_df = df[df['set'] == 'test']\n",
    "test_gene_exp = np.array(test_df['gene_exp_vector'])\n",
    "\n",
    "with h5py.File(data_path + \"meansize_cells.h5\", 'r') as hf:\n",
    "    cells_arr = np.array(hf['cells'])\n",
    "\n",
    "test_cells_arr = np.zeros((len(test_df), 64, 64, 3))\n",
    "\n",
    "index = 0\n",
    "for i, row in tqdm(test_df.iterrows(), total = len(test_df)):\n",
    "    test_cells_arr[index] = cells_arr[row['arr_index']]\n",
    "    index += 1"
   ]
  },
  {
   "cell_type": "code",
   "execution_count": 6,
   "id": "0b199b63",
   "metadata": {},
   "outputs": [],
   "source": [
    "class custom_dataset(Dataset):\n",
    "    def __init__(self, cells, vectors, transform=None):\n",
    "        self.cells = cells\n",
    "        self.vectors = vectors\n",
    "        self.transform = transform\n",
    "\n",
    "    def __len__(self):\n",
    "        return len(self.cells)\n",
    "\n",
    "    def __getitem__(self, idx):\n",
    "        cell = self.cells[idx]\n",
    "        vector = self.vectors[idx]\n",
    "        if self.transform:\n",
    "            image = self.transform(image)\n",
    "            \n",
    "        cell = torch.tensor(cell, dtype=torch.float32).permute(2,0,1)\n",
    "        vector = torch.tensor(vector, dtype=torch.float32)\n",
    "\n",
    "        return cell, vector\n",
    "\n",
    "test_dataset = custom_dataset(test_cells_arr, test_gene_exp)\n",
    "test_loader = DataLoader(test_dataset, batch_size = 16)"
   ]
  },
  {
   "cell_type": "code",
   "execution_count": 8,
   "id": "7c655e66",
   "metadata": {},
   "outputs": [
    {
     "data": {
      "text/plain": [
       "4.112969392718163e-05"
      ]
     },
     "execution_count": 8,
     "metadata": {},
     "output_type": "execute_result"
    }
   ],
   "source": [
    "cnn = CNN()\n",
    "model_path = '/dartfs/rc/nosnapshots/V/VaickusL-nb/EDIT_Interns_2024/projects/single_cell_xenium_pred/final_workspace/models/'\n",
    "checkpoint = torch.load(model_path + \"scratch_cnn_lr_sched.pth\", map_location = device)\n",
    "cnn.load_state_dict(checkpoint['model_state_dict'])\n",
    "checkpoint['loss']"
   ]
  },
  {
   "cell_type": "code",
   "execution_count": 9,
   "id": "1d68e4eb",
   "metadata": {},
   "outputs": [
    {
     "name": "stderr",
     "output_type": "stream",
     "text": [
      "/dartfs/rc/nosnapshots/V/VaickusL-nb/EDIT_Interns_2023/user/AshankS/anaconda3/envs/Ashank/lib/python3.11/site-packages/torchvision/models/_utils.py:208: UserWarning: The parameter 'pretrained' is deprecated since 0.13 and may be removed in the future, please use 'weights' instead.\n",
      "  warnings.warn(\n",
      "/dartfs/rc/nosnapshots/V/VaickusL-nb/EDIT_Interns_2023/user/AshankS/anaconda3/envs/Ashank/lib/python3.11/site-packages/torchvision/models/_utils.py:223: UserWarning: Arguments other than a weight enum or `None` for 'weights' are deprecated since 0.13 and may be removed in the future. The current behavior is equivalent to passing `weights=None`.\n",
      "  warnings.warn(msg)\n"
     ]
    },
    {
     "data": {
      "text/plain": [
       "4.0737584923779496e-05"
      ]
     },
     "execution_count": 9,
     "metadata": {},
     "output_type": "execute_result"
    }
   ],
   "source": [
    "resnet = models.resnet50(pretrained=False)\n",
    "num_ftrs = resnet.fc.in_features\n",
    "resnet.fc = nn.Sequential(\n",
    "                nn.Flatten(),\n",
    "                nn.Linear(num_ftrs, 128),\n",
    "                nn.ReLU(),\n",
    "                nn.Dropout(0.5),\n",
    "                nn.Linear(128, 10),\n",
    "               )\n",
    "model_path = '/dartfs/rc/nosnapshots/V/VaickusL-nb/EDIT_Interns_2024/projects/single_cell_xenium_pred/final_workspace/models/'\n",
    "checkpoint = torch.load(model_path + \"resnet50_resize.pth\", map_location = device)\n",
    "resnet.load_state_dict(checkpoint['model_state_dict'])\n",
    "checkpoint['loss']"
   ]
  },
  {
   "cell_type": "code",
   "execution_count": 5,
   "id": "1f3464c8",
   "metadata": {},
   "outputs": [
    {
     "data": {
      "text/plain": [
       "4.115230403078506e-05"
      ]
     },
     "execution_count": 5,
     "metadata": {},
     "output_type": "execute_result"
    }
   ],
   "source": [
    "resnet_small = models.resnet50(pretrained=False)\n",
    "num_ftrs = resnet_small.fc.in_features\n",
    "resnet_small.fc = nn.Sequential(\n",
    "                nn.Flatten(),\n",
    "                nn.Linear(num_ftrs, 128),\n",
    "                nn.ReLU(),\n",
    "                nn.Dropout(0.5),\n",
    "                nn.Linear(128, 10),\n",
    "               )\n",
    "model_path = '/dartfs/rc/nosnapshots/V/VaickusL-nb/EDIT_Interns_2024/projects/single_cell_xenium_pred/final_workspace/models/'\n",
    "checkpoint = torch.load(model_path + \"resnet50_spatial_feature_0.00001.pth\", map_location = device)\n",
    "resnet_small.load_state_dict(checkpoint['model_state_dict'])\n",
    "checkpoint['loss']"
   ]
  },
  {
   "cell_type": "code",
   "execution_count": 10,
   "id": "2225779b",
   "metadata": {},
   "outputs": [],
   "source": [
    "cnn_true_vectors = []\n",
    "cnn_predicted_vectors = []"
   ]
  },
  {
   "cell_type": "code",
   "execution_count": 11,
   "id": "01005501",
   "metadata": {},
   "outputs": [
    {
     "name": "stderr",
     "output_type": "stream",
     "text": [
      "100%|████████████████████████████████████████████████████████████████████████████████████████████| 5268/5268 [00:57<00:00, 91.65it/s]\n"
     ]
    }
   ],
   "source": [
    "with torch.no_grad():\n",
    "    for data in tqdm(test_loader, total = len(test_loader)):\n",
    "        inputs, labels = data \n",
    "#         inputs = inputs.to(device)\n",
    "#         labels = labels.to(device)\n",
    "        \n",
    "        outputs = cnn(inputs)  \n",
    "\n",
    "        labels = labels.cpu().numpy()\n",
    "        outputs = outputs.cpu().numpy()\n",
    "\n",
    "        cnn_true_vectors.extend(labels)\n",
    "        cnn_predicted_vectors.extend(outputs)"
   ]
  },
  {
   "cell_type": "code",
   "execution_count": 12,
   "id": "fab17c16",
   "metadata": {},
   "outputs": [],
   "source": [
    "cnn_true_vectors = np.array(cnn_true_vectors)\n",
    "cnn_predicted_vectors = np.array(cnn_predicted_vectors)"
   ]
  },
  {
   "cell_type": "code",
   "execution_count": 14,
   "id": "904b64cc",
   "metadata": {},
   "outputs": [],
   "source": [
    "from scipy.stats import spearmanr\n",
    "\n",
    "cnn_spearman_correlations = []\n",
    "\n",
    "for i in range (len(cnn_true_vectors[0])):\n",
    "    temp_gene_true = []\n",
    "    temp_gene_pred = []\n",
    "    for true_vector, predicted_vector in zip(cnn_true_vectors, cnn_predicted_vectors):\n",
    "        temp_gene_true.append(true_vector[i])\n",
    "        temp_gene_pred.append(predicted_vector[i])\n",
    "    cnn_spearman_correlations.append(float(spearmanr(temp_gene_true, temp_gene_pred)[0]))"
   ]
  },
  {
   "cell_type": "code",
   "execution_count": 15,
   "id": "d74ea20a",
   "metadata": {},
   "outputs": [
    {
     "data": {
      "text/plain": [
       "{'whiskers': [<matplotlib.lines.Line2D at 0x15089b9173d0>,\n",
       "  <matplotlib.lines.Line2D at 0x15089b220210>],\n",
       " 'caps': [<matplotlib.lines.Line2D at 0x1508f0ee20d0>,\n",
       "  <matplotlib.lines.Line2D at 0x15089b221ad0>],\n",
       " 'boxes': [<matplotlib.lines.Line2D at 0x15089b916410>],\n",
       " 'medians': [<matplotlib.lines.Line2D at 0x15089b2226d0>],\n",
       " 'fliers': [<matplotlib.lines.Line2D at 0x15089b223210>],\n",
       " 'means': []}"
      ]
     },
     "execution_count": 15,
     "metadata": {},
     "output_type": "execute_result"
    },
    {
     "data": {
      "image/png": "[encoded data removed]",
      "text/plain": [
       "<Figure size 640x480 with 1 Axes>"
      ]
     },
     "metadata": {},
     "output_type": "display_data"
    }
   ],
   "source": [
    "plt.boxplot(cnn_spearman_correlations, vert = False)"
   ]
  },
  {
   "cell_type": "code",
   "execution_count": 16,
   "id": "b0fe5458",
   "metadata": {},
   "outputs": [],
   "source": [
    "resnet_true_vectors = []\n",
    "resnet_predicted_vectors = []"
   ]
  },
  {
   "cell_type": "code",
   "execution_count": 17,
   "id": "a605d95b",
   "metadata": {},
   "outputs": [
    {
     "name": "stderr",
     "output_type": "stream",
     "text": [
      "100%|████████████████████████████████████████████████████████████████████████████████████████████| 5268/5268 [03:21<00:00, 26.14it/s]\n"
     ]
    }
   ],
   "source": [
    "with torch.no_grad():\n",
    "    for data in tqdm(test_loader, total = len(test_loader)):\n",
    "        inputs, labels = data \n",
    "#         inputs = inputs.to(device)\n",
    "#         labels = labels.to(device)\n",
    "        \n",
    "        outputs = resnet(inputs)  \n",
    "\n",
    "        labels = labels.cpu().numpy()\n",
    "        outputs = outputs.cpu().numpy()\n",
    "\n",
    "        resnet_true_vectors.extend(labels)\n",
    "        resnet_predicted_vectors.extend(outputs)"
   ]
  },
  {
   "cell_type": "code",
   "execution_count": 18,
   "id": "8d9d7716",
   "metadata": {},
   "outputs": [],
   "source": [
    "resnet_true_vectors = np.array(resnet_true_vectors)\n",
    "resnet_predicted_vectors = np.array(resnet_predicted_vectors)"
   ]
  },
  {
   "cell_type": "code",
   "execution_count": 19,
   "id": "ac86cb29",
   "metadata": {},
   "outputs": [],
   "source": [
    "from scipy.stats import spearmanr\n",
    "\n",
    "resnet_spearman_correlations = []\n",
    "\n",
    "for i in range (len(resnet_true_vectors[0])):\n",
    "    temp_gene_true = []\n",
    "    temp_gene_pred = []\n",
    "    for true_vector, predicted_vector in zip(resnet_true_vectors, resnet_predicted_vectors):\n",
    "        temp_gene_true.append(true_vector[i])\n",
    "        temp_gene_pred.append(predicted_vector[i])\n",
    "    resnet_spearman_correlations.append(float(spearmanr(temp_gene_true, temp_gene_pred)[0]))"
   ]
  },
  {
   "cell_type": "code",
   "execution_count": 20,
   "id": "dae92994",
   "metadata": {},
   "outputs": [
    {
     "data": {
      "text/plain": [
       "{'whiskers': [<matplotlib.lines.Line2D at 0x1508996a4050>,\n",
       "  <matplotlib.lines.Line2D at 0x1508996b08d0>],\n",
       " 'caps': [<matplotlib.lines.Line2D at 0x1508996b1290>,\n",
       "  <matplotlib.lines.Line2D at 0x1508996b1b90>],\n",
       " 'boxes': [<matplotlib.lines.Line2D at 0x15089b2487d0>],\n",
       " 'medians': [<matplotlib.lines.Line2D at 0x1508996b2350>],\n",
       " 'fliers': [<matplotlib.lines.Line2D at 0x1508996b2b50>],\n",
       " 'means': []}"
      ]
     },
     "execution_count": 20,
     "metadata": {},
     "output_type": "execute_result"
    },
    {
     "data": {
      "image/png": "[encoded data removed]",
      "text/plain": [
       "<Figure size 640x480 with 1 Axes>"
      ]
     },
     "metadata": {},
     "output_type": "display_data"
    }
   ],
   "source": [
    "plt.boxplot(resnet_spearman_correlations, vert = False)"
   ]
  },
  {
   "cell_type": "code",
   "execution_count": 27,
   "id": "404cc75e",
   "metadata": {},
   "outputs": [],
   "source": [
    "resnet_small_true_vectors = []\n",
    "resnet_small_predicted_vectors = []"
   ]
  },
  {
   "cell_type": "code",
   "execution_count": 28,
   "id": "a323ac1e",
   "metadata": {},
   "outputs": [
    {
     "name": "stderr",
     "output_type": "stream",
     "text": [
      "100%|████████████████████████████████████████████████████████████████████████████████████████████| 5268/5268 [03:24<00:00, 25.79it/s]\n"
     ]
    }
   ],
   "source": [
    "with torch.no_grad():\n",
    "    for data in tqdm(test_loader, total = len(test_loader)):\n",
    "        inputs, labels = data \n",
    "#         inputs = inputs.to(device)\n",
    "#         labels = labels.to(device)\n",
    "        \n",
    "        outputs = resnet_small(inputs)  \n",
    "\n",
    "        labels = labels.cpu().numpy()\n",
    "        outputs = outputs.cpu().numpy()\n",
    "\n",
    "        resnet_small_true_vectors.extend(labels)\n",
    "        resnet_small_predicted_vectors.extend(outputs)"
   ]
  },
  {
   "cell_type": "code",
   "execution_count": 29,
   "id": "a601c508",
   "metadata": {},
   "outputs": [],
   "source": [
    "resnet_small_true_vectors = np.array(resnet_small_true_vectors)\n",
    "resnet_small_predicted_vectors = np.array(resnet_small_predicted_vectors)"
   ]
  },
  {
   "cell_type": "code",
   "execution_count": 30,
   "id": "ebddb27b",
   "metadata": {},
   "outputs": [],
   "source": [
    "from scipy.stats import spearmanr\n",
    "\n",
    "resnet_small_spearman_correlations = []\n",
    "\n",
    "for i in range (len(resnet_small_true_vectors[0])):\n",
    "    temp_gene_true = []\n",
    "    temp_gene_pred = []\n",
    "    for true_vector, predicted_vector in zip(resnet_small_true_vectors, resnet_small_predicted_vectors):\n",
    "        temp_gene_true.append(true_vector[i])\n",
    "        temp_gene_pred.append(predicted_vector[i])\n",
    "    resnet_small_spearman_correlations.append(float(spearmanr(temp_gene_true, temp_gene_pred)[0]))"
   ]
  },
  {
   "cell_type": "code",
   "execution_count": 32,
   "id": "39f6a9bb",
   "metadata": {},
   "outputs": [
    {
     "data": {
      "text/plain": [
       "{'whiskers': [<matplotlib.lines.Line2D at 0x1508992a9210>,\n",
       "  <matplotlib.lines.Line2D at 0x1508992a9e90>],\n",
       " 'caps': [<matplotlib.lines.Line2D at 0x1508992aaa90>,\n",
       "  <matplotlib.lines.Line2D at 0x1508992ab5d0>],\n",
       " 'boxes': [<matplotlib.lines.Line2D at 0x1508992a8590>],\n",
       " 'medians': [<matplotlib.lines.Line2D at 0x1508992abfd0>],\n",
       " 'fliers': [<matplotlib.lines.Line2D at 0x1508992a9d50>],\n",
       " 'means': []}"
      ]
     },
     "execution_count": 32,
     "metadata": {},
     "output_type": "execute_result"
    },
    {
     "data": {
      "image/png": "[encoded data removed]",
      "text/plain": [
       "<Figure size 640x480 with 1 Axes>"
      ]
     },
     "metadata": {},
     "output_type": "display_data"
    }
   ],
   "source": [
    "plt.boxplot(resnet_small_spearman_correlations, vert = False)"
   ]
  },
  {
   "cell_type": "code",
   "execution_count": 33,
   "id": "9d5eb95a",
   "metadata": {},
   "outputs": [
    {
     "data": {
      "text/plain": [
       "{'whiskers': [<matplotlib.lines.Line2D at 0x150899400e90>,\n",
       "  <matplotlib.lines.Line2D at 0x150899401ad0>,\n",
       "  <matplotlib.lines.Line2D at 0x150899409d90>,\n",
       "  <matplotlib.lines.Line2D at 0x15089940a910>,\n",
       "  <matplotlib.lines.Line2D at 0x150899416890>,\n",
       "  <matplotlib.lines.Line2D at 0x150899417450>],\n",
       " 'caps': [<matplotlib.lines.Line2D at 0x150899402590>,\n",
       "  <matplotlib.lines.Line2D at 0x150899403190>,\n",
       "  <matplotlib.lines.Line2D at 0x15089940b390>,\n",
       "  <matplotlib.lines.Line2D at 0x15089940bed0>,\n",
       "  <matplotlib.lines.Line2D at 0x150899417f10>,\n",
       "  <matplotlib.lines.Line2D at 0x1508994249d0>],\n",
       " 'boxes': [<matplotlib.lines.Line2D at 0x150899400350>,\n",
       "  <matplotlib.lines.Line2D at 0x150899409250>,\n",
       "  <matplotlib.lines.Line2D at 0x150899415e90>],\n",
       " 'medians': [<matplotlib.lines.Line2D at 0x150899403c90>,\n",
       "  <matplotlib.lines.Line2D at 0x1508994148d0>,\n",
       "  <matplotlib.lines.Line2D at 0x150899425450>],\n",
       " 'fliers': [<matplotlib.lines.Line2D at 0x15089938d790>,\n",
       "  <matplotlib.lines.Line2D at 0x15089905f210>,\n",
       "  <matplotlib.lines.Line2D at 0x1508f0df5710>],\n",
       " 'means': []}"
      ]
     },
     "execution_count": 33,
     "metadata": {},
     "output_type": "execute_result"
    },
    {
     "data": {
      "image/png": "[encoded data removed]",
      "text/plain": [
       "<Figure size 1200x600 with 1 Axes>"
      ]
     },
     "metadata": {},
     "output_type": "display_data"
    }
   ],
   "source": [
    "plt.figure(figsize=(12, 6))\n",
    "plt.boxplot([cnn_spearman_correlations, resnet_small_spearman_correlations, resnet_spearman_correlations])"
   ]
  },
  {
   "cell_type": "code",
   "execution_count": 35,
   "id": "7ad18b1d",
   "metadata": {},
   "outputs": [
    {
     "data": {
      "image/png": "[encoded data removed]",
      "text/plain": [
       "<Figure size 800x600 with 1 Axes>"
      ]
     },
     "metadata": {},
     "output_type": "display_data"
    }
   ],
   "source": [
    "plt.figure(figsize=(8, 6))\n",
    "plt.boxplot([cnn_spearman_correlations, resnet_small_spearman_correlations, resnet_spearman_correlations], positions=[1, 2, 3], widths=0.3, patch_artist=True, \n",
    "            boxprops=dict(facecolor='lightblue', color='blue'),\n",
    "            medianprops=dict(color='red', linewidth=2),\n",
    "            whiskerprops=dict(color='blue', linewidth=1.5),\n",
    "            capprops=dict(color='blue', linewidth=1.5))\n",
    "\n",
    "# Adding labels and title\n",
    "plt.xticks([1, 2, 3], ['CNN', 'ResNet50', 'ResNet50 Resized'])\n",
    "plt.title('Testing Spearman Correlation Coefficient across Genes')\n",
    "plt.ylabel('Correlation Coefficient')\n",
    "plt.grid(True, linestyle='--', alpha=0.6)\n",
    "\n",
    "# Showing the plot\n",
    "plt.show()"
   ]
  },
  {
   "cell_type": "code",
   "execution_count": 36,
   "id": "0e6b43a6",
   "metadata": {},
   "outputs": [
    {
     "data": {
      "text/plain": [
       "[0.17143439127022714,\n",
       " 0.05623578010275727,\n",
       " 0.09022021871659389,\n",
       " 0.058104222366997624,\n",
       " 0.3009239306734045,\n",
       " 0.06728657108770875,\n",
       " 0.10929420962325903,\n",
       " 0.13345905356923482,\n",
       " 0.033749963320557755,\n",
       " 0.49398380142546716]"
      ]
     },
     "execution_count": 36,
     "metadata": {},
     "output_type": "execute_result"
    }
   ],
   "source": [
    "cnn_spearman_correlations"
   ]
  },
  {
   "cell_type": "code",
   "execution_count": 38,
   "id": "3666600d",
   "metadata": {},
   "outputs": [
    {
     "data": {
      "text/plain": [
       "[0.18395206231704156,\n",
       " 0.062171679705365114,\n",
       " 0.08250392610180063,\n",
       " 0.06958024564679699,\n",
       " 0.30662520122378734,\n",
       " 0.038582948956540505,\n",
       " 0.06551635772064276,\n",
       " 0.15569792485402487,\n",
       " 0.005338947369740894,\n",
       " 0.4680498617229441]"
      ]
     },
     "execution_count": 38,
     "metadata": {},
     "output_type": "execute_result"
    }
   ],
   "source": [
    "resnet_small_spearman_correlations"
   ]
  },
  {
   "cell_type": "code",
   "execution_count": 37,
   "id": "a3ba3385",
   "metadata": {},
   "outputs": [
    {
     "data": {
      "text/plain": [
       "[0.05202939568447206,\n",
       " -0.0010154060455537534,\n",
       " 0.03220984627852528,\n",
       " 0.024794407983472003,\n",
       " 0.13145814157356475,\n",
       " 0.012109075851685622,\n",
       " 0.028071996761251,\n",
       " 0.03194651366149576,\n",
       " 0.013329385892362114,\n",
       " 0.3364155268664139]"
      ]
     },
     "execution_count": 37,
     "metadata": {},
     "output_type": "execute_result"
    }
   ],
   "source": [
    "resnet_spearman_correlations"
   ]
  },
  {
   "cell_type": "code",
   "execution_count": 3,
   "id": "7774b2a3",
   "metadata": {},
   "outputs": [
    {
     "data": {
      "text/plain": [
       "0.14380191556186847"
      ]
     },
     "execution_count": 3,
     "metadata": {},
     "output_type": "execute_result"
    }
   ],
   "source": [
    "import numpy as np\n",
    "np.mean([0.18395206231704156,\n",
    " 0.062171679705365114,\n",
    " 0.08250392610180063,\n",
    " 0.06958024564679699,\n",
    " 0.30662520122378734,\n",
    " 0.038582948956540505,\n",
    " 0.06551635772064276,\n",
    " 0.15569792485402487,\n",
    " 0.005338947369740894,\n",
    " 0.4680498617229441])"
   ]
  },
  {
   "cell_type": "markdown",
   "id": "56af406a",
   "metadata": {},
   "source": [
    "<h1>Misc</h1>"
   ]
  },
  {
   "cell_type": "code",
   "execution_count": 5,
   "id": "343c77e0",
   "metadata": {},
   "outputs": [],
   "source": [
    "#gpu not being used\n",
    "#load_model = CNN().to(device)\n",
    "# checkpoint = torch.load('/dartfs/rc/nosnapshots/V/VaickusL-nb/EDIT_Interns_2024/projects/single_cell_xenium_pred/final_workspace/models/scratch_cnn.pth')"
   ]
  },
  {
   "cell_type": "code",
   "execution_count": 7,
   "id": "be1e837f",
   "metadata": {},
   "outputs": [
    {
     "data": {
      "text/plain": [
       "4.728586420600465e-05"
      ]
     },
     "execution_count": 7,
     "metadata": {},
     "output_type": "execute_result"
    }
   ],
   "source": [
    "#on cpu\n",
    "load_model_2 = CNN()\n",
    "model_path = '/dartfs/rc/nosnapshots/V/VaickusL-nb/EDIT_Interns_2024/projects/single_cell_xenium_pred/final_workspace/models/'\n",
    "checkpoint2 = torch.load(model_path + 'scratch_cnn_lr_sched-Copy1.pth', map_location=torch.device('cpu'))\n",
    "load_model_2.load_state_dict(checkpoint2['model_state_dict'])\n",
    "# load_model = cell_autoencoder()\n",
    "checkpoint2['loss']"
   ]
  },
  {
   "cell_type": "code",
   "execution_count": 8,
   "id": "09989592",
   "metadata": {},
   "outputs": [
    {
     "name": "stderr",
     "output_type": "stream",
     "text": [
      "/dartfs/rc/nosnapshots/V/VaickusL-nb/EDIT_Interns_2023/user/AshankS/anaconda3/envs/Ashank/lib/python3.11/site-packages/torchvision/models/_utils.py:208: UserWarning: The parameter 'pretrained' is deprecated since 0.13 and may be removed in the future, please use 'weights' instead.\n",
      "  warnings.warn(\n",
      "/dartfs/rc/nosnapshots/V/VaickusL-nb/EDIT_Interns_2023/user/AshankS/anaconda3/envs/Ashank/lib/python3.11/site-packages/torchvision/models/_utils.py:223: UserWarning: Arguments other than a weight enum or `None` for 'weights' are deprecated since 0.13 and may be removed in the future. The current behavior is equivalent to passing `weights=None`.\n",
      "  warnings.warn(msg)\n"
     ]
    }
   ],
   "source": [
    "load_model = models.resnet50(pretrained=False)\n",
    "num_ftrs = load_model.fc.in_features\n",
    "load_model.fc = nn.Linear(num_ftrs, 10)"
   ]
  },
  {
   "cell_type": "code",
   "execution_count": 33,
   "id": "e64fce21",
   "metadata": {},
   "outputs": [],
   "source": [
    "checkpoint = torch.load('/dartfs/rc/nosnapshots/V/VaickusL-nb/EDIT_Interns_2024/projects/single_cell_xenium_pred/final_workspace/models/resnet50_spatial_t10.pth', map_location=torch.device('cpu'))"
   ]
  },
  {
   "cell_type": "code",
   "execution_count": 34,
   "id": "7a3a24a6",
   "metadata": {},
   "outputs": [
    {
     "data": {
      "text/plain": [
       "<All keys matched successfully>"
      ]
     },
     "execution_count": 34,
     "metadata": {},
     "output_type": "execute_result"
    }
   ],
   "source": [
    "load_model.load_state_dict(checkpoint['model_state_dict'])"
   ]
  },
  {
   "cell_type": "code",
   "execution_count": 35,
   "id": "501ddf5b",
   "metadata": {},
   "outputs": [
    {
     "data": {
      "text/plain": [
       "4.162276306828848e-05"
      ]
     },
     "execution_count": 35,
     "metadata": {},
     "output_type": "execute_result"
    }
   ],
   "source": [
    "checkpoint['loss']"
   ]
  },
  {
   "cell_type": "code",
   "execution_count": 9,
   "id": "af1c0ed5",
   "metadata": {},
   "outputs": [],
   "source": [
    "true_vectors = []\n",
    "predicted_vectors = []"
   ]
  },
  {
   "cell_type": "code",
   "execution_count": 37,
   "id": "be1b7da2",
   "metadata": {},
   "outputs": [
    {
     "name": "stderr",
     "output_type": "stream",
     "text": [
      "100%|████████████████████████████████████████████████████████████████████████████████████████████| 5418/5418 [03:11<00:00, 28.34it/s]\n"
     ]
    }
   ],
   "source": [
    "with torch.no_grad():\n",
    "    for data in tqdm(test_loader, total = len(test_loader)):\n",
    "        inputs, labels = data \n",
    "#         inputs = inputs.to(device)\n",
    "#         labels = labels.to(device)\n",
    "        \n",
    "        outputs = load_model(inputs)  \n",
    "\n",
    "        labels = labels.cpu().numpy()\n",
    "        outputs = outputs.cpu().numpy()\n",
    "\n",
    "        true_vectors.extend(labels)\n",
    "        predicted_vectors.extend(outputs)"
   ]
  },
  {
   "cell_type": "code",
   "execution_count": 38,
   "id": "9425bd5d",
   "metadata": {},
   "outputs": [],
   "source": [
    "true_vectors = np.array(true_vectors)\n",
    "predicted_vectors = np.array(predicted_vectors)"
   ]
  },
  {
   "cell_type": "code",
   "execution_count": 39,
   "id": "865bd78d",
   "metadata": {},
   "outputs": [],
   "source": [
    "from scipy.stats import spearmanr\n",
    "\n",
    "spearman_correlations = []\n",
    "\n",
    "for i in range (len(true_vectors[0])):\n",
    "    temp_gene_true = []\n",
    "    temp_gene_pred = []\n",
    "    for true_vector, predicted_vector in zip(true_vectors, predicted_vectors):\n",
    "        temp_gene_true.append(true_vector[i])\n",
    "        temp_gene_pred.append(predicted_vector[i])\n",
    "    spearman_correlations.append(float(spearmanr(temp_gene_true, temp_gene_pred)[0]))"
   ]
  },
  {
   "cell_type": "code",
   "execution_count": 40,
   "id": "7e1ab76f",
   "metadata": {},
   "outputs": [
    {
     "data": {
      "text/plain": [
       "{'whiskers': [<matplotlib.lines.Line2D at 0x151d9fc4a7d0>,\n",
       "  <matplotlib.lines.Line2D at 0x151d9fc49510>],\n",
       " 'caps': [<matplotlib.lines.Line2D at 0x151d9fc489d0>,\n",
       "  <matplotlib.lines.Line2D at 0x151d9fc4a6d0>],\n",
       " 'boxes': [<matplotlib.lines.Line2D at 0x151d9fab7250>],\n",
       " 'medians': [<matplotlib.lines.Line2D at 0x151d9fc38210>],\n",
       " 'fliers': [<matplotlib.lines.Line2D at 0x151d9fc2bcd0>],\n",
       " 'means': []}"
      ]
     },
     "execution_count": 40,
     "metadata": {},
     "output_type": "execute_result"
    },
    {
     "data": {
      "image/png": "[encoded data removed]",
      "text/plain": [
       "<Figure size 640x480 with 1 Axes>"
      ]
     },
     "metadata": {},
     "output_type": "display_data"
    }
   ],
   "source": [
    "plt.boxplot(spearman_correlations, vert = False)"
   ]
  },
  {
   "cell_type": "code",
   "execution_count": 10,
   "id": "c9da3b45",
   "metadata": {},
   "outputs": [],
   "source": [
    "true_vectors_2 = []\n",
    "predicted_vectors_2 = []"
   ]
  },
  {
   "cell_type": "code",
   "execution_count": 11,
   "id": "8c1a0994",
   "metadata": {},
   "outputs": [
    {
     "name": "stderr",
     "output_type": "stream",
     "text": [
      "  0%|                                                                                             | 4/5268 [00:14<5:07:10,  3.50s/it]\n",
      "\n",
      "KeyboardInterrupt\n",
      "\n"
     ]
    }
   ],
   "source": [
    "with torch.no_grad():\n",
    "    for data in tqdm(test_loader, total = len(test_loader)):\n",
    "        inputs, labels = data \n",
    "#         inputs = inputs.to(device)\n",
    "#         labels = labels.to(device)\n",
    "        \n",
    "        outputs = load_model(inputs)  \n",
    "\n",
    "        labels = labels.cpu().numpy()\n",
    "        outputs = outputs.cpu().numpy()\n",
    "\n",
    "        true_vectors_2.extend(labels)\n",
    "        predicted_vectors_2.extend(outputs)"
   ]
  },
  {
   "cell_type": "code",
   "execution_count": null,
   "id": "c701c7d5",
   "metadata": {},
   "outputs": [],
   "source": [
    "true_vectors_2 = np.array(true_vectors_2)\n",
    "predicted_vectors_2 = np.array(predicted_vectors_2)"
   ]
  },
  {
   "cell_type": "code",
   "execution_count": null,
   "id": "b68deaf5",
   "metadata": {},
   "outputs": [],
   "source": [
    "from scipy.stats import spearmanr\n",
    "\n",
    "spearman_correlations_2 = []\n",
    "\n",
    "for i in range (len(true_vectors[0])):\n",
    "    temp_gene_true = []\n",
    "    temp_gene_pred = []\n",
    "    for true_vector, predicted_vector in zip(true_vectors_2, predicted_vectors_2):\n",
    "        temp_gene_true.append(true_vector[i])\n",
    "        temp_gene_pred.append(predicted_vector[i])\n",
    "    spearman_correlations_2.append(float(spearmanr(temp_gene_true, temp_gene_pred)[0]))"
   ]
  },
  {
   "cell_type": "code",
   "execution_count": null,
   "id": "3d4a9d89",
   "metadata": {},
   "outputs": [],
   "source": [
    "plt.figure(figsize=(8, 6))\n",
    "plt.boxplot([spearman_correlations, spearman_correlations_2])"
   ]
  },
  {
   "cell_type": "code",
   "execution_count": null,
   "id": "082d305f",
   "metadata": {},
   "outputs": [],
   "source": []
  }
 ],
 "metadata": {
  "kernelspec": {
   "display_name": "Python 3 (ipykernel)",
   "language": "python",
   "name": "python3"
  },
  "language_info": {
   "codemirror_mode": {
    "name": "ipython",
    "version": 3
   },
   "file_extension": ".py",
   "mimetype": "text/x-python",
   "name": "python",
   "nbconvert_exporter": "python",
   "pygments_lexer": "ipython3",
   "version": "3.11.4"
  }
 },
 "nbformat": 4,
 "nbformat_minor": 5
}
